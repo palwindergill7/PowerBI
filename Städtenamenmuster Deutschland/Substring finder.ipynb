{
 "cells": [
  {
   "cell_type": "code",
   "execution_count": null,
   "metadata": {},
   "outputs": [],
   "source": [
    "import pandas as pd\n",
    "from collections import Counter\n",
    "\n",
    "def get_all_substrings(s):\n",
    "    \"\"\"Generate all substrings of a given string.\"\"\"\n",
    "    length = len(s)\n",
    "    return [s[i:j] for i in range(length) for j in range(i + 1, length + 1)]"
   ]
  },
  {
   "cell_type": "code",
   "execution_count": 6,
   "metadata": {},
   "outputs": [
    {
     "data": {
      "text/plain": [
       "Index(['Gemeindename', 'String Status'], dtype='object')"
      ]
     },
     "execution_count": 6,
     "metadata": {},
     "output_type": "execute_result"
    }
   ],
   "source": [
    "\n",
    "# Example usage\n",
    "df = pd.read_excel('StadtMuster Deutschlands.xlsx', sheet_name='StringFinders')\n",
    "df.columns"
   ]
  },
  {
   "cell_type": "code",
   "execution_count": 10,
   "metadata": {},
   "outputs": [],
   "source": [
    "# Create a set to store unique substrings\n",
    "unique_substrings = set()\n",
    "\n",
    "# Loop through each name in the column and add substrings to the set\n",
    "for name in df['Gemeindename']:\n",
    "    substrings = get_all_substrings(name)\n",
    "    unique_substrings.update(substrings)\n",
    "\n",
    "# Convert to a sorted list (optional)\n",
    "# Remove all substrings that start or end with a space\n",
    "cleaned_substrings = {s for s in unique_substrings if not s.startswith(' ') and not s.endswith(' ')}\n",
    "unique_substrings_list = sorted(cleaned_substrings)"
   ]
  },
  {
   "cell_type": "code",
   "execution_count": null,
   "metadata": {},
   "outputs": [],
   "source": [
    "# substring_counts_df_3= substring_counts_df[substring_counts_df['Substring'].str.len() >=3]\n",
    "# substring_counts_df_4= substring_counts_df[substring_counts_df['Substring'].str.len() >=4]"
   ]
  },
  {
   "cell_type": "code",
   "execution_count": 12,
   "metadata": {},
   "outputs": [],
   "source": [
    "df_substrings = pd.DataFrame(unique_substrings_list, columns=['Substrings'])\n",
    "# Save to Excel with the heading\n",
    "df_substrings.to_excel('Substrings.xlsx', index=False)"
   ]
  }
 ],
 "metadata": {
  "kernelspec": {
   "display_name": "Python 3",
   "language": "python",
   "name": "python3"
  },
  "language_info": {
   "codemirror_mode": {
    "name": "ipython",
    "version": 3
   },
   "file_extension": ".py",
   "mimetype": "text/x-python",
   "name": "python",
   "nbconvert_exporter": "python",
   "pygments_lexer": "ipython3",
   "version": "3.10.9"
  }
 },
 "nbformat": 4,
 "nbformat_minor": 2
}
